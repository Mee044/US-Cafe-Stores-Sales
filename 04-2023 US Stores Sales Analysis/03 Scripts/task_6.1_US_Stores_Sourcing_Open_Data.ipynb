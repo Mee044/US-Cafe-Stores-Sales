{
 "cells": [
  {
   "cell_type": "markdown",
   "id": "80494cd1-87af-4f16-8533-d9474195742f",
   "metadata": {},
   "source": [
    "# US Cafe' Stores Sales Analysis\n",
    "\n",
    "## Table of Contents\n",
    "### Import libraries and Data\n",
    "### Data Wrangling\n",
    "#### - Discovery\n",
    "#### - Cleaning\n",
    "#### - Exporting"
   ]
  },
  {
   "cell_type": "markdown",
   "id": "7ae4ea55-9d8b-4fe2-8b63-136d97e58bda",
   "metadata": {
    "tags": []
   },
   "source": [
    "### Import libraries and Data"
   ]
  },
  {
   "cell_type": "code",
   "execution_count": 13,
   "id": "e7c40ccf-eb22-4c7f-b56f-ce1221acfccc",
   "metadata": {},
   "outputs": [],
   "source": [
    "#import libraries\n",
    "import pandas as pd\n",
    "import numpy as np\n",
    "import os\n",
    "import datetime as dt"
   ]
  },
  {
   "cell_type": "code",
   "execution_count": 14,
   "id": "d3a4ccca-82e4-4a3f-8294-232e77b5f625",
   "metadata": {},
   "outputs": [],
   "source": [
    "#Create path\n",
    "path = r'/Users/rusamijan/04-2023 US Stores Sales Analysis' "
   ]
  },
  {
   "cell_type": "code",
   "execution_count": 15,
   "id": "b69949eb-0520-454b-86f1-0cd7cc568ec6",
   "metadata": {},
   "outputs": [],
   "source": [
    "#Import data\n",
    "df = pd.read_csv(os.path.join(path, '02 Data', 'Original Data', 'sales.csv'), index_col = False)"
   ]
  },
  {
   "cell_type": "markdown",
   "id": "ebef2303-8dba-4f8b-8ad0-cfd1273056c2",
   "metadata": {
    "tags": []
   },
   "source": [
    "### Data Wrangling"
   ]
  },
  {
   "cell_type": "markdown",
   "id": "77704d14-cb0b-4774-93ad-3dc698a30716",
   "metadata": {
    "tags": []
   },
   "source": [
    "#### Disovery"
   ]
  },
  {
   "cell_type": "code",
   "execution_count": 16,
   "id": "776d7ff9-82c8-4e83-8afa-b76187c5afd1",
   "metadata": {
    "tags": []
   },
   "outputs": [
    {
     "data": {
      "text/html": [
       "<div>\n",
       "<style scoped>\n",
       "    .dataframe tbody tr th:only-of-type {\n",
       "        vertical-align: middle;\n",
       "    }\n",
       "\n",
       "    .dataframe tbody tr th {\n",
       "        vertical-align: top;\n",
       "    }\n",
       "\n",
       "    .dataframe thead th {\n",
       "        text-align: right;\n",
       "    }\n",
       "</style>\n",
       "<table border=\"1\" class=\"dataframe\">\n",
       "  <thead>\n",
       "    <tr style=\"text-align: right;\">\n",
       "      <th></th>\n",
       "      <th>Area Code</th>\n",
       "      <th>State</th>\n",
       "      <th>Market</th>\n",
       "      <th>Market Size</th>\n",
       "      <th>Profit</th>\n",
       "      <th>Margin</th>\n",
       "      <th>Sales</th>\n",
       "      <th>COGS</th>\n",
       "      <th>Total Expenses</th>\n",
       "      <th>Marketing</th>\n",
       "      <th>Inventory</th>\n",
       "      <th>Budget Profit</th>\n",
       "      <th>Budget COGS</th>\n",
       "      <th>Budget Margin</th>\n",
       "      <th>Budget Sales</th>\n",
       "      <th>ProductId</th>\n",
       "      <th>Date</th>\n",
       "      <th>Product Type</th>\n",
       "      <th>Product</th>\n",
       "      <th>Type</th>\n",
       "    </tr>\n",
       "  </thead>\n",
       "  <tbody>\n",
       "    <tr>\n",
       "      <th>0</th>\n",
       "      <td>203</td>\n",
       "      <td>Connecticut</td>\n",
       "      <td>East</td>\n",
       "      <td>Small Market</td>\n",
       "      <td>107.0</td>\n",
       "      <td>176.0</td>\n",
       "      <td>292.0</td>\n",
       "      <td>116.0</td>\n",
       "      <td>69.0</td>\n",
       "      <td>38.0</td>\n",
       "      <td>962.0</td>\n",
       "      <td>110.0</td>\n",
       "      <td>110.0</td>\n",
       "      <td>160.0</td>\n",
       "      <td>270.0</td>\n",
       "      <td>2</td>\n",
       "      <td>04/01/10 00:00:00</td>\n",
       "      <td>Coffee</td>\n",
       "      <td>Columbian</td>\n",
       "      <td>Regular</td>\n",
       "    </tr>\n",
       "    <tr>\n",
       "      <th>1</th>\n",
       "      <td>203</td>\n",
       "      <td>Connecticut</td>\n",
       "      <td>East</td>\n",
       "      <td>Small Market</td>\n",
       "      <td>75.0</td>\n",
       "      <td>135.0</td>\n",
       "      <td>225.0</td>\n",
       "      <td>90.0</td>\n",
       "      <td>60.0</td>\n",
       "      <td>29.0</td>\n",
       "      <td>1148.0</td>\n",
       "      <td>90.0</td>\n",
       "      <td>80.0</td>\n",
       "      <td>130.0</td>\n",
       "      <td>210.0</td>\n",
       "      <td>2</td>\n",
       "      <td>07/01/10 00:00:00</td>\n",
       "      <td>Coffee</td>\n",
       "      <td>Columbian</td>\n",
       "      <td>Regular</td>\n",
       "    </tr>\n",
       "    <tr>\n",
       "      <th>2</th>\n",
       "      <td>203</td>\n",
       "      <td>Connecticut</td>\n",
       "      <td>East</td>\n",
       "      <td>Small Market</td>\n",
       "      <td>122.0</td>\n",
       "      <td>195.0</td>\n",
       "      <td>325.0</td>\n",
       "      <td>130.0</td>\n",
       "      <td>73.0</td>\n",
       "      <td>42.0</td>\n",
       "      <td>1134.0</td>\n",
       "      <td>130.0</td>\n",
       "      <td>110.0</td>\n",
       "      <td>180.0</td>\n",
       "      <td>290.0</td>\n",
       "      <td>2</td>\n",
       "      <td>11/01/10 00:00:00</td>\n",
       "      <td>Coffee</td>\n",
       "      <td>Columbian</td>\n",
       "      <td>Regular</td>\n",
       "    </tr>\n",
       "    <tr>\n",
       "      <th>3</th>\n",
       "      <td>203</td>\n",
       "      <td>Connecticut</td>\n",
       "      <td>East</td>\n",
       "      <td>Small Market</td>\n",
       "      <td>105.0</td>\n",
       "      <td>174.0</td>\n",
       "      <td>289.0</td>\n",
       "      <td>115.0</td>\n",
       "      <td>69.0</td>\n",
       "      <td>37.0</td>\n",
       "      <td>1166.0</td>\n",
       "      <td>110.0</td>\n",
       "      <td>100.0</td>\n",
       "      <td>160.0</td>\n",
       "      <td>260.0</td>\n",
       "      <td>2</td>\n",
       "      <td>12/01/10 00:00:00</td>\n",
       "      <td>Coffee</td>\n",
       "      <td>Columbian</td>\n",
       "      <td>Regular</td>\n",
       "    </tr>\n",
       "    <tr>\n",
       "      <th>4</th>\n",
       "      <td>203</td>\n",
       "      <td>Connecticut</td>\n",
       "      <td>East</td>\n",
       "      <td>Small Market</td>\n",
       "      <td>104.0</td>\n",
       "      <td>135.0</td>\n",
       "      <td>223.0</td>\n",
       "      <td>90.0</td>\n",
       "      <td>56.0</td>\n",
       "      <td>29.0</td>\n",
       "      <td>1148.0</td>\n",
       "      <td>90.0</td>\n",
       "      <td>80.0</td>\n",
       "      <td>130.0</td>\n",
       "      <td>210.0</td>\n",
       "      <td>2</td>\n",
       "      <td>07/01/11 00:00:00</td>\n",
       "      <td>Coffee</td>\n",
       "      <td>Columbian</td>\n",
       "      <td>Regular</td>\n",
       "    </tr>\n",
       "  </tbody>\n",
       "</table>\n",
       "</div>"
      ],
      "text/plain": [
       "   Area Code        State Market   Market Size  Profit  Margin  Sales   COGS  \\\n",
       "0        203  Connecticut   East  Small Market   107.0   176.0  292.0  116.0   \n",
       "1        203  Connecticut   East  Small Market    75.0   135.0  225.0   90.0   \n",
       "2        203  Connecticut   East  Small Market   122.0   195.0  325.0  130.0   \n",
       "3        203  Connecticut   East  Small Market   105.0   174.0  289.0  115.0   \n",
       "4        203  Connecticut   East  Small Market   104.0   135.0  223.0   90.0   \n",
       "\n",
       "   Total Expenses  Marketing  Inventory  Budget Profit  Budget COGS  \\\n",
       "0            69.0       38.0      962.0          110.0        110.0   \n",
       "1            60.0       29.0     1148.0           90.0         80.0   \n",
       "2            73.0       42.0     1134.0          130.0        110.0   \n",
       "3            69.0       37.0     1166.0          110.0        100.0   \n",
       "4            56.0       29.0     1148.0           90.0         80.0   \n",
       "\n",
       "   Budget Margin  Budget Sales  ProductId               Date Product Type  \\\n",
       "0          160.0         270.0          2  04/01/10 00:00:00       Coffee   \n",
       "1          130.0         210.0          2  07/01/10 00:00:00       Coffee   \n",
       "2          180.0         290.0          2  11/01/10 00:00:00       Coffee   \n",
       "3          160.0         260.0          2  12/01/10 00:00:00       Coffee   \n",
       "4          130.0         210.0          2  07/01/11 00:00:00       Coffee   \n",
       "\n",
       "     Product     Type  \n",
       "0  Columbian  Regular  \n",
       "1  Columbian  Regular  \n",
       "2  Columbian  Regular  \n",
       "3  Columbian  Regular  \n",
       "4  Columbian  Regular  "
      ]
     },
     "execution_count": 16,
     "metadata": {},
     "output_type": "execute_result"
    }
   ],
   "source": [
    "df.head()"
   ]
  },
  {
   "cell_type": "code",
   "execution_count": 17,
   "id": "63235e03-7cfe-4d85-a80f-86c85521af5b",
   "metadata": {},
   "outputs": [],
   "source": [
    "#drop columns that no need in analysis\n",
    "df1=df.drop(['ProductId'], axis = 1, inplace = True)"
   ]
  },
  {
   "cell_type": "code",
   "execution_count": 18,
   "id": "27fb2284-1336-4526-b8a0-43605f185cd1",
   "metadata": {
    "tags": []
   },
   "outputs": [
    {
     "data": {
      "text/plain": [
       "(4248, 19)"
      ]
     },
     "execution_count": 18,
     "metadata": {},
     "output_type": "execute_result"
    }
   ],
   "source": [
    "df.shape"
   ]
  },
  {
   "cell_type": "code",
   "execution_count": 19,
   "id": "52384193-66e0-41db-aef9-eace54103349",
   "metadata": {
    "tags": []
   },
   "outputs": [
    {
     "name": "stdout",
     "output_type": "stream",
     "text": [
      "<class 'pandas.core.frame.DataFrame'>\n",
      "RangeIndex: 4248 entries, 0 to 4247\n",
      "Data columns (total 19 columns):\n",
      " #   Column          Non-Null Count  Dtype  \n",
      "---  ------          --------------  -----  \n",
      " 0   Area Code       4248 non-null   int64  \n",
      " 1   State           4248 non-null   object \n",
      " 2   Market          4248 non-null   object \n",
      " 3   Market Size     4248 non-null   object \n",
      " 4   Profit          4248 non-null   float64\n",
      " 5   Margin          4248 non-null   float64\n",
      " 6   Sales           4248 non-null   float64\n",
      " 7   COGS            4248 non-null   float64\n",
      " 8   Total Expenses  4248 non-null   float64\n",
      " 9   Marketing       4248 non-null   float64\n",
      " 10  Inventory       4248 non-null   float64\n",
      " 11  Budget Profit   4248 non-null   float64\n",
      " 12  Budget COGS     4248 non-null   float64\n",
      " 13  Budget Margin   4248 non-null   float64\n",
      " 14  Budget Sales    4248 non-null   float64\n",
      " 15  Date            4248 non-null   object \n",
      " 16  Product Type    4248 non-null   object \n",
      " 17  Product         4248 non-null   object \n",
      " 18  Type            4248 non-null   object \n",
      "dtypes: float64(11), int64(1), object(7)\n",
      "memory usage: 630.7+ KB\n"
     ]
    }
   ],
   "source": [
    "df.info()"
   ]
  },
  {
   "cell_type": "code",
   "execution_count": 20,
   "id": "acfa8879-46cc-4554-aa3e-c33764edf354",
   "metadata": {},
   "outputs": [
    {
     "data": {
      "text/html": [
       "<div>\n",
       "<style scoped>\n",
       "    .dataframe tbody tr th:only-of-type {\n",
       "        vertical-align: middle;\n",
       "    }\n",
       "\n",
       "    .dataframe tbody tr th {\n",
       "        vertical-align: top;\n",
       "    }\n",
       "\n",
       "    .dataframe thead th {\n",
       "        text-align: right;\n",
       "    }\n",
       "</style>\n",
       "<table border=\"1\" class=\"dataframe\">\n",
       "  <thead>\n",
       "    <tr style=\"text-align: right;\">\n",
       "      <th></th>\n",
       "      <th>Area Code</th>\n",
       "      <th>Profit</th>\n",
       "      <th>Margin</th>\n",
       "      <th>Sales</th>\n",
       "      <th>COGS</th>\n",
       "      <th>Total Expenses</th>\n",
       "      <th>Marketing</th>\n",
       "      <th>Inventory</th>\n",
       "      <th>Budget Profit</th>\n",
       "      <th>Budget COGS</th>\n",
       "      <th>Budget Margin</th>\n",
       "      <th>Budget Sales</th>\n",
       "    </tr>\n",
       "  </thead>\n",
       "  <tbody>\n",
       "    <tr>\n",
       "      <th>count</th>\n",
       "      <td>4248.000000</td>\n",
       "      <td>4248.000000</td>\n",
       "      <td>4248.000000</td>\n",
       "      <td>4248.000000</td>\n",
       "      <td>4248.000000</td>\n",
       "      <td>4248.000000</td>\n",
       "      <td>4248.000000</td>\n",
       "      <td>4248.000000</td>\n",
       "      <td>4248.000000</td>\n",
       "      <td>4248.000000</td>\n",
       "      <td>4248.000000</td>\n",
       "      <td>4248.000000</td>\n",
       "    </tr>\n",
       "    <tr>\n",
       "      <th>mean</th>\n",
       "      <td>582.278013</td>\n",
       "      <td>61.097693</td>\n",
       "      <td>104.293315</td>\n",
       "      <td>192.987524</td>\n",
       "      <td>84.433145</td>\n",
       "      <td>54.063559</td>\n",
       "      <td>31.185028</td>\n",
       "      <td>749.381356</td>\n",
       "      <td>60.913371</td>\n",
       "      <td>74.830508</td>\n",
       "      <td>100.819209</td>\n",
       "      <td>175.649718</td>\n",
       "    </tr>\n",
       "    <tr>\n",
       "      <th>std</th>\n",
       "      <td>221.140310</td>\n",
       "      <td>101.708546</td>\n",
       "      <td>94.342522</td>\n",
       "      <td>151.133127</td>\n",
       "      <td>67.249769</td>\n",
       "      <td>32.352598</td>\n",
       "      <td>27.023264</td>\n",
       "      <td>661.031896</td>\n",
       "      <td>79.546123</td>\n",
       "      <td>66.238145</td>\n",
       "      <td>92.602725</td>\n",
       "      <td>148.891522</td>\n",
       "    </tr>\n",
       "    <tr>\n",
       "      <th>min</th>\n",
       "      <td>203.000000</td>\n",
       "      <td>-638.000000</td>\n",
       "      <td>-302.000000</td>\n",
       "      <td>17.000000</td>\n",
       "      <td>0.000000</td>\n",
       "      <td>10.000000</td>\n",
       "      <td>0.000000</td>\n",
       "      <td>-3534.000000</td>\n",
       "      <td>-320.000000</td>\n",
       "      <td>0.000000</td>\n",
       "      <td>-210.000000</td>\n",
       "      <td>0.000000</td>\n",
       "    </tr>\n",
       "    <tr>\n",
       "      <th>25%</th>\n",
       "      <td>417.000000</td>\n",
       "      <td>17.000000</td>\n",
       "      <td>52.750000</td>\n",
       "      <td>100.000000</td>\n",
       "      <td>43.000000</td>\n",
       "      <td>33.000000</td>\n",
       "      <td>13.000000</td>\n",
       "      <td>432.000000</td>\n",
       "      <td>20.000000</td>\n",
       "      <td>30.000000</td>\n",
       "      <td>50.000000</td>\n",
       "      <td>80.000000</td>\n",
       "    </tr>\n",
       "    <tr>\n",
       "      <th>50%</th>\n",
       "      <td>573.000000</td>\n",
       "      <td>40.000000</td>\n",
       "      <td>76.000000</td>\n",
       "      <td>138.000000</td>\n",
       "      <td>60.000000</td>\n",
       "      <td>46.000000</td>\n",
       "      <td>22.000000</td>\n",
       "      <td>619.000000</td>\n",
       "      <td>40.000000</td>\n",
       "      <td>50.000000</td>\n",
       "      <td>70.000000</td>\n",
       "      <td>130.000000</td>\n",
       "    </tr>\n",
       "    <tr>\n",
       "      <th>75%</th>\n",
       "      <td>772.000000</td>\n",
       "      <td>92.000000</td>\n",
       "      <td>132.000000</td>\n",
       "      <td>230.000000</td>\n",
       "      <td>100.000000</td>\n",
       "      <td>65.000000</td>\n",
       "      <td>39.000000</td>\n",
       "      <td>910.500000</td>\n",
       "      <td>80.000000</td>\n",
       "      <td>90.000000</td>\n",
       "      <td>130.000000</td>\n",
       "      <td>210.000000</td>\n",
       "    </tr>\n",
       "    <tr>\n",
       "      <th>max</th>\n",
       "      <td>985.000000</td>\n",
       "      <td>778.000000</td>\n",
       "      <td>613.000000</td>\n",
       "      <td>912.000000</td>\n",
       "      <td>364.000000</td>\n",
       "      <td>190.000000</td>\n",
       "      <td>156.000000</td>\n",
       "      <td>8252.000000</td>\n",
       "      <td>560.000000</td>\n",
       "      <td>450.000000</td>\n",
       "      <td>690.000000</td>\n",
       "      <td>1140.000000</td>\n",
       "    </tr>\n",
       "  </tbody>\n",
       "</table>\n",
       "</div>"
      ],
      "text/plain": [
       "         Area Code       Profit       Margin        Sales         COGS  \\\n",
       "count  4248.000000  4248.000000  4248.000000  4248.000000  4248.000000   \n",
       "mean    582.278013    61.097693   104.293315   192.987524    84.433145   \n",
       "std     221.140310   101.708546    94.342522   151.133127    67.249769   \n",
       "min     203.000000  -638.000000  -302.000000    17.000000     0.000000   \n",
       "25%     417.000000    17.000000    52.750000   100.000000    43.000000   \n",
       "50%     573.000000    40.000000    76.000000   138.000000    60.000000   \n",
       "75%     772.000000    92.000000   132.000000   230.000000   100.000000   \n",
       "max     985.000000   778.000000   613.000000   912.000000   364.000000   \n",
       "\n",
       "       Total Expenses    Marketing    Inventory  Budget Profit  Budget COGS  \\\n",
       "count     4248.000000  4248.000000  4248.000000    4248.000000  4248.000000   \n",
       "mean        54.063559    31.185028   749.381356      60.913371    74.830508   \n",
       "std         32.352598    27.023264   661.031896      79.546123    66.238145   \n",
       "min         10.000000     0.000000 -3534.000000    -320.000000     0.000000   \n",
       "25%         33.000000    13.000000   432.000000      20.000000    30.000000   \n",
       "50%         46.000000    22.000000   619.000000      40.000000    50.000000   \n",
       "75%         65.000000    39.000000   910.500000      80.000000    90.000000   \n",
       "max        190.000000   156.000000  8252.000000     560.000000   450.000000   \n",
       "\n",
       "       Budget Margin  Budget Sales  \n",
       "count    4248.000000   4248.000000  \n",
       "mean      100.819209    175.649718  \n",
       "std        92.602725    148.891522  \n",
       "min      -210.000000      0.000000  \n",
       "25%        50.000000     80.000000  \n",
       "50%        70.000000    130.000000  \n",
       "75%       130.000000    210.000000  \n",
       "max       690.000000   1140.000000  "
      ]
     },
     "execution_count": 20,
     "metadata": {},
     "output_type": "execute_result"
    }
   ],
   "source": [
    "df.describe()"
   ]
  },
  {
   "cell_type": "markdown",
   "id": "09adbb6a-1843-4f57-80a7-30d5a8e0adb3",
   "metadata": {
    "tags": []
   },
   "source": [
    "#### Observing the data\n",
    "Inventory minimum values are negative: it's not possible to happen, because at the moment the inventory is equals zero, the market doesn't have the product phisically to sell. So, let's make a small Data Transformation to convert all negative Invetories to zero;"
   ]
  },
  {
   "cell_type": "code",
   "execution_count": 21,
   "id": "8a4b2162-2dd6-460d-9eda-030aad29b532",
   "metadata": {},
   "outputs": [
    {
     "data": {
      "text/html": [
       "<div>\n",
       "<style scoped>\n",
       "    .dataframe tbody tr th:only-of-type {\n",
       "        vertical-align: middle;\n",
       "    }\n",
       "\n",
       "    .dataframe tbody tr th {\n",
       "        vertical-align: top;\n",
       "    }\n",
       "\n",
       "    .dataframe thead th {\n",
       "        text-align: right;\n",
       "    }\n",
       "</style>\n",
       "<table border=\"1\" class=\"dataframe\">\n",
       "  <thead>\n",
       "    <tr style=\"text-align: right;\">\n",
       "      <th></th>\n",
       "      <th>Area Code</th>\n",
       "      <th>Profit</th>\n",
       "      <th>Margin</th>\n",
       "      <th>Sales</th>\n",
       "      <th>COGS</th>\n",
       "      <th>Total Expenses</th>\n",
       "      <th>Marketing</th>\n",
       "      <th>Inventory</th>\n",
       "      <th>Budget Profit</th>\n",
       "      <th>Budget COGS</th>\n",
       "      <th>Budget Margin</th>\n",
       "      <th>Budget Sales</th>\n",
       "    </tr>\n",
       "  </thead>\n",
       "  <tbody>\n",
       "    <tr>\n",
       "      <th>count</th>\n",
       "      <td>4248.000000</td>\n",
       "      <td>4248.000000</td>\n",
       "      <td>4248.000000</td>\n",
       "      <td>4248.000000</td>\n",
       "      <td>4248.000000</td>\n",
       "      <td>4248.000000</td>\n",
       "      <td>4248.000000</td>\n",
       "      <td>4248.000000</td>\n",
       "      <td>4248.000000</td>\n",
       "      <td>4248.000000</td>\n",
       "      <td>4248.000000</td>\n",
       "      <td>4248.000000</td>\n",
       "    </tr>\n",
       "    <tr>\n",
       "      <th>mean</th>\n",
       "      <td>582.278013</td>\n",
       "      <td>61.097693</td>\n",
       "      <td>104.293315</td>\n",
       "      <td>192.987524</td>\n",
       "      <td>84.433145</td>\n",
       "      <td>54.063559</td>\n",
       "      <td>31.185028</td>\n",
       "      <td>769.115348</td>\n",
       "      <td>60.913371</td>\n",
       "      <td>74.830508</td>\n",
       "      <td>100.819209</td>\n",
       "      <td>175.649718</td>\n",
       "    </tr>\n",
       "    <tr>\n",
       "      <th>std</th>\n",
       "      <td>221.140310</td>\n",
       "      <td>101.708546</td>\n",
       "      <td>94.342522</td>\n",
       "      <td>151.133127</td>\n",
       "      <td>67.249769</td>\n",
       "      <td>32.352598</td>\n",
       "      <td>27.023264</td>\n",
       "      <td>610.080105</td>\n",
       "      <td>79.546123</td>\n",
       "      <td>66.238145</td>\n",
       "      <td>92.602725</td>\n",
       "      <td>148.891522</td>\n",
       "    </tr>\n",
       "    <tr>\n",
       "      <th>min</th>\n",
       "      <td>203.000000</td>\n",
       "      <td>-638.000000</td>\n",
       "      <td>-302.000000</td>\n",
       "      <td>17.000000</td>\n",
       "      <td>0.000000</td>\n",
       "      <td>10.000000</td>\n",
       "      <td>0.000000</td>\n",
       "      <td>0.000000</td>\n",
       "      <td>-320.000000</td>\n",
       "      <td>0.000000</td>\n",
       "      <td>-210.000000</td>\n",
       "      <td>0.000000</td>\n",
       "    </tr>\n",
       "    <tr>\n",
       "      <th>25%</th>\n",
       "      <td>417.000000</td>\n",
       "      <td>17.000000</td>\n",
       "      <td>52.750000</td>\n",
       "      <td>100.000000</td>\n",
       "      <td>43.000000</td>\n",
       "      <td>33.000000</td>\n",
       "      <td>13.000000</td>\n",
       "      <td>432.000000</td>\n",
       "      <td>20.000000</td>\n",
       "      <td>30.000000</td>\n",
       "      <td>50.000000</td>\n",
       "      <td>80.000000</td>\n",
       "    </tr>\n",
       "    <tr>\n",
       "      <th>50%</th>\n",
       "      <td>573.000000</td>\n",
       "      <td>40.000000</td>\n",
       "      <td>76.000000</td>\n",
       "      <td>138.000000</td>\n",
       "      <td>60.000000</td>\n",
       "      <td>46.000000</td>\n",
       "      <td>22.000000</td>\n",
       "      <td>619.000000</td>\n",
       "      <td>40.000000</td>\n",
       "      <td>50.000000</td>\n",
       "      <td>70.000000</td>\n",
       "      <td>130.000000</td>\n",
       "    </tr>\n",
       "    <tr>\n",
       "      <th>75%</th>\n",
       "      <td>772.000000</td>\n",
       "      <td>92.000000</td>\n",
       "      <td>132.000000</td>\n",
       "      <td>230.000000</td>\n",
       "      <td>100.000000</td>\n",
       "      <td>65.000000</td>\n",
       "      <td>39.000000</td>\n",
       "      <td>910.500000</td>\n",
       "      <td>80.000000</td>\n",
       "      <td>90.000000</td>\n",
       "      <td>130.000000</td>\n",
       "      <td>210.000000</td>\n",
       "    </tr>\n",
       "    <tr>\n",
       "      <th>max</th>\n",
       "      <td>985.000000</td>\n",
       "      <td>778.000000</td>\n",
       "      <td>613.000000</td>\n",
       "      <td>912.000000</td>\n",
       "      <td>364.000000</td>\n",
       "      <td>190.000000</td>\n",
       "      <td>156.000000</td>\n",
       "      <td>8252.000000</td>\n",
       "      <td>560.000000</td>\n",
       "      <td>450.000000</td>\n",
       "      <td>690.000000</td>\n",
       "      <td>1140.000000</td>\n",
       "    </tr>\n",
       "  </tbody>\n",
       "</table>\n",
       "</div>"
      ],
      "text/plain": [
       "         Area Code       Profit       Margin        Sales         COGS  \\\n",
       "count  4248.000000  4248.000000  4248.000000  4248.000000  4248.000000   \n",
       "mean    582.278013    61.097693   104.293315   192.987524    84.433145   \n",
       "std     221.140310   101.708546    94.342522   151.133127    67.249769   \n",
       "min     203.000000  -638.000000  -302.000000    17.000000     0.000000   \n",
       "25%     417.000000    17.000000    52.750000   100.000000    43.000000   \n",
       "50%     573.000000    40.000000    76.000000   138.000000    60.000000   \n",
       "75%     772.000000    92.000000   132.000000   230.000000   100.000000   \n",
       "max     985.000000   778.000000   613.000000   912.000000   364.000000   \n",
       "\n",
       "       Total Expenses    Marketing    Inventory  Budget Profit  Budget COGS  \\\n",
       "count     4248.000000  4248.000000  4248.000000    4248.000000  4248.000000   \n",
       "mean        54.063559    31.185028   769.115348      60.913371    74.830508   \n",
       "std         32.352598    27.023264   610.080105      79.546123    66.238145   \n",
       "min         10.000000     0.000000     0.000000    -320.000000     0.000000   \n",
       "25%         33.000000    13.000000   432.000000      20.000000    30.000000   \n",
       "50%         46.000000    22.000000   619.000000      40.000000    50.000000   \n",
       "75%         65.000000    39.000000   910.500000      80.000000    90.000000   \n",
       "max        190.000000   156.000000  8252.000000     560.000000   450.000000   \n",
       "\n",
       "       Budget Margin  Budget Sales  \n",
       "count    4248.000000   4248.000000  \n",
       "mean      100.819209    175.649718  \n",
       "std        92.602725    148.891522  \n",
       "min      -210.000000      0.000000  \n",
       "25%        50.000000     80.000000  \n",
       "50%        70.000000    130.000000  \n",
       "75%       130.000000    210.000000  \n",
       "max       690.000000   1140.000000  "
      ]
     },
     "execution_count": 21,
     "metadata": {},
     "output_type": "execute_result"
    }
   ],
   "source": [
    "# Converting all negative values of inventory to zero\n",
    "df['Inventory'] = df['Inventory'].apply(lambda x: x if x >= 0 else 0)\n",
    "df.describe()"
   ]
  },
  {
   "cell_type": "markdown",
   "id": "87fb85f2-11d5-481b-9499-b6b101264290",
   "metadata": {
    "tags": []
   },
   "source": [
    "### Cleaning"
   ]
  },
  {
   "cell_type": "code",
   "execution_count": 22,
   "id": "22788e4a-c1d2-4d9b-baa4-7fb84ac57445",
   "metadata": {},
   "outputs": [
    {
     "data": {
      "text/plain": [
       "Area Code         0\n",
       "State             0\n",
       "Market            0\n",
       "Market Size       0\n",
       "Profit            0\n",
       "Margin            0\n",
       "Sales             0\n",
       "COGS              0\n",
       "Total Expenses    0\n",
       "Marketing         0\n",
       "Inventory         0\n",
       "Budget Profit     0\n",
       "Budget COGS       0\n",
       "Budget Margin     0\n",
       "Budget Sales      0\n",
       "Date              0\n",
       "Product Type      0\n",
       "Product           0\n",
       "Type              0\n",
       "dtype: int64"
      ]
     },
     "execution_count": 22,
     "metadata": {},
     "output_type": "execute_result"
    }
   ],
   "source": [
    "#check missing values\n",
    "df.isna().sum()"
   ]
  },
  {
   "cell_type": "markdown",
   "id": "921cc039-7119-4c58-a412-7e42167ed03f",
   "metadata": {
    "tags": []
   },
   "source": [
    "found no missing data"
   ]
  },
  {
   "cell_type": "code",
   "execution_count": 23,
   "id": "e3af448e-b204-4939-af6d-1b84e661037f",
   "metadata": {
    "tags": []
   },
   "outputs": [
    {
     "data": {
      "text/plain": [
       "Area Code           int64\n",
       "State              object\n",
       "Market             object\n",
       "Market Size        object\n",
       "Profit            float64\n",
       "Margin            float64\n",
       "Sales             float64\n",
       "COGS              float64\n",
       "Total Expenses    float64\n",
       "Marketing         float64\n",
       "Inventory         float64\n",
       "Budget Profit     float64\n",
       "Budget COGS       float64\n",
       "Budget Margin     float64\n",
       "Budget Sales      float64\n",
       "Date               object\n",
       "Product Type       object\n",
       "Product            object\n",
       "Type               object\n",
       "dtype: object"
      ]
     },
     "execution_count": 23,
     "metadata": {},
     "output_type": "execute_result"
    }
   ],
   "source": [
    "df.dtypes"
   ]
  },
  {
   "cell_type": "code",
   "execution_count": 24,
   "id": "6e272fd9-1fbf-4af0-9eda-2fc2738294e0",
   "metadata": {},
   "outputs": [
    {
     "data": {
      "text/plain": [
       "0   2010-01-04\n",
       "1   2010-01-07\n",
       "2   2010-01-11\n",
       "3   2010-01-12\n",
       "4   2011-01-07\n",
       "Name: Date, dtype: datetime64[ns]"
      ]
     },
     "execution_count": 24,
     "metadata": {},
     "output_type": "execute_result"
    }
   ],
   "source": [
    "import datetime\n",
    "\n",
    "# Getting just the date part of 'Date' Feature in DD/MM/YY format\n",
    "# and converting the string into datetime\n",
    "df['Date'] = df['Date'].apply(lambda row:row[0:8])\n",
    "df['Date'] = pd.to_datetime(df['Date'], format='%d/%m/%y')\n",
    "df['Date'].head()"
   ]
  },
  {
   "cell_type": "code",
   "execution_count": 25,
   "id": "6c945c9b-d3f1-4b44-827e-a8f5a0ff27b0",
   "metadata": {},
   "outputs": [
    {
     "data": {
      "text/plain": [
       "Area Code                  int64\n",
       "State                     object\n",
       "Market                    object\n",
       "Market Size               object\n",
       "Profit                   float64\n",
       "Margin                   float64\n",
       "Sales                    float64\n",
       "COGS                     float64\n",
       "Total Expenses           float64\n",
       "Marketing                float64\n",
       "Inventory                float64\n",
       "Budget Profit            float64\n",
       "Budget COGS              float64\n",
       "Budget Margin            float64\n",
       "Budget Sales             float64\n",
       "Date              datetime64[ns]\n",
       "Product Type              object\n",
       "Product                   object\n",
       "Type                      object\n",
       "dtype: object"
      ]
     },
     "execution_count": 25,
     "metadata": {},
     "output_type": "execute_result"
    }
   ],
   "source": [
    "df.dtypes"
   ]
  },
  {
   "cell_type": "code",
   "execution_count": 26,
   "id": "b929cf97-ac70-467b-83dc-95a6600924f9",
   "metadata": {},
   "outputs": [],
   "source": [
    "#check duplicate values \n",
    "df_dup = df[df.duplicated()]"
   ]
  },
  {
   "cell_type": "code",
   "execution_count": 27,
   "id": "0886b94f-7000-4aef-8d1c-9a6704cc313e",
   "metadata": {},
   "outputs": [],
   "source": [
    "df_clean = df_dup.drop_duplicates() #no dup"
   ]
  },
  {
   "cell_type": "code",
   "execution_count": 28,
   "id": "65a9da63-383d-4c9d-9625-9cc80e66934f",
   "metadata": {},
   "outputs": [
    {
     "data": {
      "text/plain": [
       "(0, 19)"
      ]
     },
     "execution_count": 28,
     "metadata": {},
     "output_type": "execute_result"
    }
   ],
   "source": [
    "df_clean.shape"
   ]
  },
  {
   "cell_type": "markdown",
   "id": "c7030a98-c14b-4e52-9e15-94d8a94e7fd2",
   "metadata": {
    "tags": []
   },
   "source": [
    "### Exporting"
   ]
  },
  {
   "cell_type": "code",
   "execution_count": 29,
   "id": "90534f2b-ba33-4948-8633-52828593a16b",
   "metadata": {},
   "outputs": [],
   "source": [
    "df.to_pickle(os.path.join(path, '02 Data','Prepared Data', 'sales_cleaned.pkl'))"
   ]
  }
 ],
 "metadata": {
  "kernelspec": {
   "display_name": "Python 3 (ipykernel)",
   "language": "python",
   "name": "python3"
  },
  "language_info": {
   "codemirror_mode": {
    "name": "ipython",
    "version": 3
   },
   "file_extension": ".py",
   "mimetype": "text/x-python",
   "name": "python",
   "nbconvert_exporter": "python",
   "pygments_lexer": "ipython3",
   "version": "3.9.13"
  }
 },
 "nbformat": 4,
 "nbformat_minor": 5
}
